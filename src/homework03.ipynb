{
 "cells": [
  {
   "cell_type": "markdown",
   "metadata": {},
   "source": [
    "# Homework 03"
   ]
  },
  {
   "cell_type": "markdown",
   "metadata": {},
   "source": [
    "\n",
    "## Part 1 - Questions\n",
    "\n",
    "### Question 1: Did players in New York Knicks shoot better free throws in their home games?\n",
    "\n",
    "* Who (population): Players of New York Knicks in NBA\n",
    "* What (subject, discipline): NBA Basketball, Sports\n",
    "* Where (location): States across the United States\n",
    "* When (snapshot, longitudinal): Free throw percentage of NY Knicks Players in 2019-2020 \n",
    "* How much data do you need to do the analysis/work: \n",
    "\n",
    "For my analysis, I will need certain amount of data. I will need to have records of every game played by New York Knicks in 19-20 NBA season. The specific columns/information I may need are free throw percentage and whether the teams played in their home court.  \n",
    "\n",
    "### Question 2:  Did players in New York Knicks shooot better 3 pointers in their home games?\n",
    "\n",
    "* Who (population): Players of New York Knicks in NBA\n",
    "* What (subject, discipline): NBA Basketball, Sports\n",
    "* Where (location): States across the United States\n",
    "* When (snapshot, longitudinal): Three point percentage of NY Knicks Players in 2019-2020 \n",
    "* How much data do you need to do the analysis/work: \n",
    "\n",
    "For my analysis, I will need certain amount of data. I will need to have records of every game played by New York Knicks in 19-20 NBA season. The specific columns/information I may need are 3-point percentage and whether the teams played in their home court.   \n",
    "\n",
    "### Who Might Collect Relevant Data / What Articles or Publications Cite a Relevant Data Set?\n",
    "\n",
    "Some possible group of people who may collect relevent datas are sports agent, psychologists, and coaches of NBA teams. These people may poossibly utilize this information to create strategies regarding how to increase players' performances in away games. ESPN or other sports magazines could cite a relevant data set. "
   ]
  },
  {
   "cell_type": "markdown",
   "metadata": {},
   "source": [
    "## Part 2 - Selecting a Data Set, Adding Documentation\n",
    "\n",
    "\n",
    "\n",
    "1. Name / Title: NBA player stats per game for season 2019-2020\n",
    "2. Link to Data: https://zenodo.org/record/3744154#.YDDQTc8zbzc\n",
    "3. Source / Origin: \n",
    "\t* Author or Creator: Alejandro Santamarta Martinez\n",
    "\t* Publication Date: April 8, 2020\n",
    "\t* Publisher: Zenodo\n",
    "\t* Version or Data Accessed: Version 1 Apr 8, 2020\n",
    "\n",
    "4. License: Creative Commons\n",
    "5. Can You Use this Data Set for Your Intended Use Case? \n",
    "Yes, this data set contains all the data I need to answer my research questions"
   ]
  },
  {
   "cell_type": "markdown",
   "metadata": {},
   "source": [
    "## Format\n",
    "\n"
   ]
  },
  {
   "cell_type": "markdown",
   "metadata": {},
   "source": [
    "\n",
    "### Overview\n",
    "\n",
    "* Format: CSV File\n",
    "* Size: 4 MB\n",
    "* Number of Records: 20502 Rows"
   ]
  },
  {
   "cell_type": "markdown",
   "metadata": {},
   "source": [
    "### Sample of Data\n",
    "\n",
    "\n"
   ]
  },
  {
   "cell_type": "code",
   "execution_count": 42,
   "metadata": {},
   "outputs": [
    {
     "name": "stdout",
     "output_type": "stream",
     "text": [
      "['date', 'team', 'against', 'local', 'team_score', 'rival_score', 'result', 'player', 'mp', 'fg', 'fga', 'fg_pct', 'fg3', 'fg3a', 'fg3_pct', 'ft', 'fta', 'ft_pct', 'orb', 'drb', 'trb', 'ast', 'stl', 'blk', 'tov', 'pf', 'pts', 'plus_minus', 'ts_pct', 'efg_pct', 'fg3a_per_fga_pct', 'fta_per_fga_pct', 'orb_pct', 'drb_pct', 'trb_pct', 'ast_pct', 'stl_pct', 'blk_pct', 'tov_pct', 'usg_pct', 'off_rtg', 'def_rtg', 'bpm']\n",
      "['20191022', 'New Orleans Pelicans', 'Toronto Raptors', 'False', '122', '130', 'Lose', 'Jrue Holiday', '41:05', '6', '15', '.400', '1', '6', '.167', '0', '2', '.000', '2', '2', '4', '6', '0', '2', '5', '2', '13', '-14', '.409', '.433', '.400', '.133', '4.5', '4.9', '4.7', '22.0', '0.0', '4.1', '23.9', '20.8', '81', '120', '-6.8']\n",
      "['20191022', 'New Orleans Pelicans', 'Toronto Raptors', 'False', '122', '130', 'Lose', 'Brandon Ingram', '35:06', '8', '19', '.421', '2', '5', '.400', '4', '4', '1.000', '0', '5', '5', '5', '1', '2', '2', '4', '22', '-19', '.530', '.474', '.263', '.211', '0.0', '14.2', '6.9', '24.4', '1.3', '4.8', '8.8', '26.5', '111', '113', '3.7']\n"
     ]
    }
   ],
   "source": [
    "# TODO show a few lines of data from the actual file\n",
    "\n",
    "# Use \"regular\" Python to do this in this code block\n",
    "# Assume that jupyter-lab was started in your root directory\n",
    "# with open('./data/raw/example-data.csv', 'r'): \n",
    "\n",
    "import csv\n",
    "with open('../data/raw/nba_2020_data.csv', 'r') as csv_file:\n",
    "    csv_reader = csv.reader(csv_file, delimiter=',')\n",
    "    for index, line in enumerate(csv_reader):\n",
    "        if index == 3:\n",
    "            break\n",
    "        else:\n",
    "            print(line)\n",
    "        \n",
    "            \n",
    "    "
   ]
  },
  {
   "cell_type": "markdown",
   "metadata": {},
   "source": [
    "\n",
    "### Fields or Column Headers\n",
    "\n",
    "* Field/Column 1: date (data)\n",
    "* Field/Column 2: team (string)\n",
    "* Field/Column 3: against (string)\n",
    "* Field/Column 4: local (boolean)\n",
    "* Field/Column 5: team_score (int)\n",
    "* Field/Column 6: rival_score (int)\n",
    "* Field/Column 7: result (string)\n",
    "* Field/Column 8: player \n",
    "* Field/Column 9: mp (string)\n",
    "* Field/Column 10: fg (int)\n",
    "* Field/Column 11: fga (int)\n",
    "* Field/Column 12: fg_pct (float)\n",
    "* Field/Column 13: fg3 (int)\n",
    "* Field/Column 14: fg3a (int)\n",
    "* Field/Column 15: fg3_pct (float)\n",
    "* Field/Column 16: ft (int)\n",
    "* Field/Column 17: fta (int)\n",
    "* Field/Column 18: ft_pct (float)\n",
    "* Field/Column 19: orb (int)\n",
    "* Field/Column 20: drb (int)\n",
    "* Field/Column 21: trb (int)\n",
    "* Field/Column 22: ast (int)\n",
    "* Field/Column 23: stl (int)\n",
    "* Field/Column 24: blk (int)\n",
    "* Field/Column 25: tov (int)\n",
    "* Field/Column 26: pf (int)\n",
    "* Field/Column 27: pts (int)\n",
    "* Field/Column 28: plus_minus (int)\n",
    "* Field/Column 29: ts_pct (float)\n",
    "* Field/Column 30: efg_pct (float)\n",
    "* Field/Column 31: fg3a_per_fga_pct (float)\n",
    "* Field/Column 32: fta_per_fga_pct (float)\n",
    "* Field/Column 33: orb_pct (float)\n",
    "* Field/Column 34: drb_pct (float)\n",
    "* Field/Column 35: trb_pct (float)\n",
    "* Field/Column 36: ast_pct (float)\n",
    "* Field/Column 37: stl_pct (float)\n",
    "* Field/Column 38: blk_pct (float)\n",
    "* Field/Column 39: tov_pct (float)\n",
    "* Field/Column 40: usg_pct (float)\n",
    "* Field/Column 41: off_rtg (int)\n",
    "* Field/Column 42: def_rtg (int)\n",
    "* Field/Column 43: bpm (float)"
   ]
  },
  {
   "cell_type": "markdown",
   "metadata": {},
   "source": [
    "## Part 3 - Extract / Transform\n",
    "\n",
    "* what columns you'll be using (extracting) from your dataset\n",
    "\n",
    "local(categorical), fg3_pct, ft_pct \n",
    "\n",
    "* how you're planning to convert the data into analogous python types / how you'll deal with type issues (for example, you may want a column that's numeric, but the data contains a label, such as 4 months) \n",
    "\n",
    "There will be total of 3 lists: home_indicator list, three_point_percentage list, and free_throw_percentage list. When I read in the csv file, I would read each row line by line and split each line by setting the delimiter as comma. Then I would store the specific columns into list by appending method. Since all the columns have String values, I would need to convert the type of each list by doing runng list comprehension on each list. For exmaple, I would need to convert the type of values in home_indicator_list to boolean. And I would need to convert the type of values in three_point_percentage list and free_throw_percentage list to float since some values contain decimal places.\n",
    "\n",
    "* any other kind of cleaning (_normalizing_ data, filling in missing values, etc.) that you'll have to perform\n",
    "\n",
    "There are some missing columns in three point percentage column and free throw percentage column. I will fill in those empty fileds with None. \n",
    "\n",
    "* what you'll use a generator for...\n",
    "\n",
    "I will be using a generator calculating the 'sum' of Three Point percentages and Free throw percentages in both home and away games. Below is a sample code that demonstrates the use of generator.\n",
    "\n",
    "sum_of_p_away_3 = sum((\n",
    "    percentage\n",
    "    for indicator, percentage in zip(home_indicator_bool, three_point_percentage_float)\n",
    "    if not indicator and percentage\n",
    "))"
   ]
  },
  {
   "cell_type": "code",
   "execution_count": 41,
   "metadata": {},
   "outputs": [
    {
     "name": "stdout",
     "output_type": "stream",
     "text": [
      "0.20766019417475726\n",
      "0.18970596393897363\n",
      "0.11008737864077668\n",
      "0.1217309292649098\n",
      "0.833\n",
      "0.833\n",
      "0.833\n",
      "0.833\n",
      "1.0\n",
      "[('False', 361), ('True', 360)]\n",
      "dict_keys(['False', 'True'])\n"
     ]
    }
   ],
   "source": [
    "\n",
    "\n",
    "import csv\n",
    "import statistics\n",
    "from collections import defaultdict\n",
    "\n",
    "\n",
    "data = []\n",
    "\n",
    "# Identified missing fields and replaced with None\n",
    "with open('../data/raw/nba_2020_data.csv', 'r') as csv_file:\n",
    "    csv_reader = csv.reader(csv_file, delimiter=',')\n",
    "    for line in csv_reader:\n",
    "        if line[1] == \"New York Knicks\":\n",
    "            if line[14] == '':\n",
    "                line[14] = None\n",
    "            if line[17] == '':\n",
    "                line[17] = None\n",
    "        # Read everything into a 2-dimensional list\n",
    "        data.append(line)\n",
    "\n",
    "# Extracted at 3 columns that I want to work with\n",
    "home_indicator = []\n",
    "three_point_percentage = []\n",
    "free_throw_percentage = []\n",
    "\n",
    "# Filled the 3 lists created above with appropriate data\n",
    "for game in data:\n",
    "    if \"New York Knicks\" in game[1]:\n",
    "        home_indicator.append(game[3])\n",
    "        three_point_percentage.append(game[14])\n",
    "        free_throw_percentage.append(game[17])\n",
    "\n",
    "# Transformed 2 columns to a float\n",
    "three_point_percentage_float = [None if i is None else float(i) for i in three_point_percentage]\n",
    "free_throw_percentage_float = [None if i is None else float(i) for i in free_throw_percentage]\n",
    "\n",
    "# Transformed 1 column to boolean\n",
    "home_indicator_bool = [True if i == \"True\" else False for i in home_indicator]\n",
    "\n",
    "\n",
    "# Calculates the sum of free throw percentages in Home Game\n",
    "sum_of_p_home = sum((\n",
    "    percentage\n",
    "    for indicator, percentage in zip(home_indicator_bool, free_throw_percentage_float)\n",
    "    if indicator and percentage\n",
    "))\n",
    "\n",
    "# Calculates the sum of free throw percentages in Away Game\n",
    "\n",
    "sum_of_p_away = sum((\n",
    "    percentage\n",
    "    for indicator, percentage in zip(home_indicator_bool, free_throw_percentage_float)\n",
    "    if not indicator and percentage\n",
    "))\n",
    "\n",
    "# Calculates the sum of Three Point percentages in Home Game\n",
    "sum_of_p_home_3 = sum((\n",
    "    percentage\n",
    "    for indicator, percentage in zip(home_indicator_bool, three_point_percentage_float)\n",
    "    if indicator and percentage\n",
    "))\n",
    "\n",
    "# Calculates the sum of Three Point percentages in Away Game\n",
    "\n",
    "sum_of_p_away_3 = sum((\n",
    "    percentage\n",
    "    for indicator, percentage in zip(home_indicator_bool, three_point_percentage_float)\n",
    "    if not indicator and percentage\n",
    "))\n",
    "\n",
    "# Max free throw percentage of Home Games\n",
    "max_of_free_throw_percentage_home = max((\n",
    "            percentage\n",
    "            for percentage, indicator in zip(free_throw_percentage_float, home_indicator_bool)\n",
    "            if percentage and indicator\n",
    "        ))\n",
    "\n",
    "# Max three point percentage of Away Games\n",
    "max_of_three_point_percentage_home = max((\n",
    "            percentage\n",
    "            for percentage, indicator in zip(three_point_percentage_float, home_indicator_bool)\n",
    "            if percentage and not indicator\n",
    "        ))\n",
    "\n",
    "# Max free throw percentage of Away Games\n",
    "max_of_free_throw_percentage_away = max((\n",
    "            percentage\n",
    "            for percentage, indicator in zip(free_throw_percentage_float, home_indicator_bool)\n",
    "            if percentage and not indicator\n",
    "        ))\n",
    "\n",
    "# Max three point percentage of Home Games\n",
    "max_of_three_point_percentage_away = max((\n",
    "            percentage\n",
    "            for percentage, indicator in zip(three_point_percentage_float, home_indicator_bool)\n",
    "            if percentage and indicator\n",
    "        ))\n",
    "\n",
    "# Min free throw percentage of Home Games\n",
    "min_of_free_throw_percentage_home = min((\n",
    "    percentage\n",
    "    for percentage, indicator in zip(free_throw_percentage_float, home_indicator_bool)\n",
    "    if percentage and indicator\n",
    "))\n",
    "\n",
    "# Min three point percentage of Away Games\n",
    "min_of_three_point_percentage_away = min((\n",
    "    percentage\n",
    "    for percentage, indicator in zip(three_point_percentage_float, home_indicator_bool)\n",
    "    if percentage and not indicator\n",
    "))\n",
    "\n",
    "# Min three point percentage of Home Games\n",
    "min_of_three_point_percentage_home = min((\n",
    "    percentage\n",
    "    for percentage, indicator in zip(three_point_percentage_float, home_indicator_bool)\n",
    "    if percentage and indicator\n",
    "))\n",
    "\n",
    "# Min free throw percentage of Away Games\n",
    "min_of_free_throw_percentage_away = min((\n",
    "    percentage\n",
    "    for percentage, indicator in zip(free_throw_percentage_float, home_indicator_bool)\n",
    "    if percentage and not indicator\n",
    "))\n",
    "\n",
    "print(sum_of_p_home/len(free_throw_percentage_float))\n",
    "print(sum_of_p_away/len(free_throw_percentage_float))\n",
    "print(sum_of_p_home_3/len(three_point_percentage_float))\n",
    "print(sum_of_p_away_3/len(three_point_percentage_float))\n",
    "print(max_of_three_point_percentage_home - min_of_three_point_percentage_home)\n",
    "print(max_of_three_point_percentage_away - min_of_three_point_percentage_away)\n",
    "print(max_of_free_throw_percentage_home - min_of_free_throw_percentage_home)\n",
    "print(max_of_free_throw_percentage_away - min_of_free_throw_percentage_away)\n",
    "\n",
    "\n",
    "d = defaultdict(int)\n",
    "for team in home_indicator:\n",
    "    d[team] += 1\n",
    "\n",
    "print(sorted(d.items()))\n",
    "print(d.keys())\n",
    "\n",
    "\n",
    "\n"
   ]
  },
  {
   "cell_type": "markdown",
   "metadata": {},
   "source": [
    "## Part 4 - Descriptive Statistics\n",
    "\n",
    "### Analysis on Numeric Data\n",
    "\n",
    "#### Central Tendency\n",
    "\n"
   ]
  },
  {
   "cell_type": "code",
   "execution_count": null,
   "metadata": {},
   "outputs": [],
   "source": [
    "# Average free throw percentage of Home Games\n",
    "\n",
    "0.20766019417475726\n",
    "\n",
    "# Average free throw percentage of Away Games\n",
    "\n",
    "0.18970596393897363\n",
    "\n",
    "# Average three point percentage of Home Games\n",
    "\n",
    "0.11008737864077668\n",
    "\n",
    "# Average three point percentage of Away Games\n",
    "\n",
    "0.1217309292649098\n"
   ]
  },
  {
   "cell_type": "markdown",
   "metadata": {},
   "source": [
    "#### Dispersion"
   ]
  },
  {
   "cell_type": "markdown",
   "metadata": {},
   "source": [
    "# Range of Three point percentage of Home Games\n",
    "\n",
    "0.833\n",
    "\n",
    "# Range of Three point percentage of Away Games\n",
    "\n",
    "0.833\n",
    "\n",
    "# Range of Free Throw percentage of Home Games\n",
    "\n",
    "0.833\n",
    "\n",
    "# Range of Free Throw percentage of Away Games\n",
    "\n",
    "0.833"
   ]
  },
  {
   "cell_type": "markdown",
   "metadata": {},
   "source": [
    "#### Outliers\n"
   ]
  },
  {
   "cell_type": "markdown",
   "metadata": {},
   "source": [
    "# TODO: copy and paste your results here\n",
    "\n",
    "Max of three point percentage home\n",
    "\n",
    "100%\n",
    "\n",
    "Min of three point percentage home\n",
    "\n",
    "16.7%\n",
    "\n",
    "Max of three point percentage away\n",
    "\n",
    "100%\n",
    "\n",
    "Min of three point percentage away\n",
    "\n",
    "16.7%\n",
    "\n",
    "Max of free throw percentage home\n",
    "\n",
    "100%\n",
    "\n",
    "Min of free throw percentage home\n",
    "\n",
    "16.7%\n",
    "\n",
    "Max of free throw percentage away\n",
    "\n",
    "100%\n",
    "\n",
    "Min of free throw percentage away\n",
    "\n",
    "16.7%\n",
    "\n",
    "\n",
    "There were no outliers. The max and min values are all reasonable numbers."
   ]
  },
  {
   "cell_type": "markdown",
   "metadata": {},
   "source": [
    "#### Other\n"
   ]
  },
  {
   "cell_type": "code",
   "execution_count": null,
   "metadata": {},
   "outputs": [],
   "source": [
    "\n",
    "No other statistical analysis was done."
   ]
  },
  {
   "cell_type": "markdown",
   "metadata": {},
   "source": [
    "###  Analysis on Categorical Data"
   ]
  },
  {
   "cell_type": "markdown",
   "metadata": {},
   "source": [
    "#### Frequency"
   ]
  },
  {
   "cell_type": "markdown",
   "metadata": {},
   "source": [
    "[('False', 361), ('True', 360)]"
   ]
  },
  {
   "cell_type": "markdown",
   "metadata": {},
   "source": [
    "#### Unique Values"
   ]
  },
  {
   "cell_type": "code",
   "execution_count": null,
   "metadata": {},
   "outputs": [],
   "source": [
    "dict_keys(['False', 'True'])"
   ]
  },
  {
   "cell_type": "markdown",
   "metadata": {},
   "source": [
    "## Part 5 - Visualizations\n",
    "\n"
   ]
  },
  {
   "cell_type": "code",
   "execution_count": 37,
   "metadata": {},
   "outputs": [
    {
     "data": {
      "text/plain": [
       "<BarContainer object of 4 artists>"
      ]
     },
     "execution_count": 37,
     "metadata": {},
     "output_type": "execute_result"
    },
    {
     "data": {
      "image/png": "[encoded data removed]",
      "text/plain": [
       "<Figure size 432x288 with 1 Axes>"
      ]
     },
     "metadata": {
      "needs_background": "light"
     },
     "output_type": "display_data"
    }
   ],
   "source": [
    "import matplotlib.pyplot as plt\n",
    "import numpy as np\n",
    "\n",
    "data = {'Home Free Throw': 0.2076 , 'Away Free Throw': 0.1897, 'Home Three Point': 0.1101 , 'Away Three Point': 0.1217}\n",
    "plt.xticks(np.arange(len(data)), data.keys())\n",
    "plt.xlabel('Categories')\n",
    "plt.ylabel('Percentages')\n",
    "plt.title('NY Knicks Average Free Throw/3 Point Percentages of Home and Away Games')\n",
    "plt.bar(np.arange(len(data)), data.values(), 0.3, align=\"center\")\n",
    "\n"
   ]
  },
  {
   "cell_type": "markdown",
   "metadata": {},
   "source": [
    "The visualization I created is a bar graph that represents NY Knicks' free throw and three point percentages of 19-20 NBA season. On the y-axis, it shows average percentages. On the x-axis, it shows 4 categories: Home free throw, away free throw, home three point, and away three point."
   ]
  },
  {
   "cell_type": "markdown",
   "metadata": {},
   "source": [
    "## Part 6 - Conclusion\n",
    "\n",
    "The question I wanted to answer for this particular project was to determine whether players of New York Knicks shot better free throws and 3 pointers in their home court. My hypothesis was that players indeed shot better free throws and 3 pointers in their home court. In order to verify my hypothesis, I applied some basic statistics on my data set. Since this data set contained every single game in 19-20 NBA seasons, I only extracted the games played by New York Knicks. For the average/mean, it turned out that players only shot better free throws in their home court. The average of free throw percentages in the home court were slightly higher than that of away court. However, the avergage of three point percentages in home court was slightly lower than that of away courty. The percentages ranged from 0 to 100% in most cases. The max percentage was 100% and the min percentage was 0%. And this logically made sense because some players may have missed all the shots during the game. And some players may have made all the shots during the game. The data set contained no outliers. \n",
    "\n",
    "The statistics I applied on the data set definitely were able to answer my questions. It showed clear differences on the statistics, which indicates that the players in fact perform differently depending on whether the game was played home or not."
   ]
  }
 ],
 "metadata": {
  "kernelspec": {
   "display_name": "Python 3",
   "language": "python",
   "name": "python3"
  },
  "language_info": {
   "codemirror_mode": {
    "name": "ipython",
    "version": 3
   },
   "file_extension": ".py",
   "mimetype": "text/x-python",
   "name": "python",
   "nbconvert_exporter": "python",
   "pygments_lexer": "ipython3",
   "version": "3.8.5"
  }
 },
 "nbformat": 4,
 "nbformat_minor": 5
}
